{
 "cells": [
  {
   "cell_type": "code",
   "execution_count": 1,
   "metadata": {},
   "outputs": [
    {
     "name": "stdout",
     "output_type": "stream",
     "text": [
      "The intercept is:\n",
      " 32.22984166993328\n",
      "The coefficients are:\n",
      " [-1.06715912e-01  3.53133180e-02 -4.38830943e-02  4.52209315e-01\n",
      " -1.23981083e+01  3.75945346e+00 -2.36790549e-02 -1.21096549e+00\n",
      "  2.51301879e-01 -1.37774382e-02 -8.38180086e-01  7.85316354e-03\n",
      " -3.50107918e-01]\n",
      "The relevancy of coefficients are:\n",
      " [-1.23981083e+01 -1.21096549e+00 -8.38180086e-01 -3.50107918e-01\n",
      " -1.06715912e-01 -4.38830943e-02 -2.36790549e-02 -1.37774382e-02\n",
      "  7.85316354e-03  3.53133180e-02  2.51301879e-01  4.52209315e-01\n",
      "  3.75945346e+00]\n",
      "The names of least relevant coefficients are:\n",
      " ['NOX' 'DIS' 'PTRATIO' 'LSTAT' 'CRIM' 'INDUS' 'AGE' 'TAX' 'B' 'ZN' 'RAD'\n",
      " 'CHAS' 'RM']\n"
     ]
    },
    {
     "name": "stderr",
     "output_type": "stream",
     "text": [
      "/opt/miniconda3/lib/python3.9/site-packages/sklearn/utils/deprecation.py:87: FutureWarning: Function load_boston is deprecated; `load_boston` is deprecated in 1.0 and will be removed in 1.2.\n",
      "\n",
      "    The Boston housing prices dataset has an ethical problem. You can refer to\n",
      "    the documentation of this function for further details.\n",
      "\n",
      "    The scikit-learn maintainers therefore strongly discourage the use of this\n",
      "    dataset unless the purpose of the code is to study and educate about\n",
      "    ethical issues in data science and machine learning.\n",
      "\n",
      "    In this special case, you can fetch the dataset from the original\n",
      "    source::\n",
      "\n",
      "        import pandas as pd\n",
      "        import numpy as np\n",
      "\n",
      "        data_url = \"http://lib.stat.cmu.edu/datasets/boston\"\n",
      "        raw_df = pd.read_csv(data_url, sep=\"\\s+\", skiprows=22, header=None)\n",
      "        data = np.hstack([raw_df.values[::2, :], raw_df.values[1::2, :2]])\n",
      "        target = raw_df.values[1::2, 2]\n",
      "\n",
      "    Alternative datasets include the California housing dataset (i.e.\n",
      "    :func:`~sklearn.datasets.fetch_california_housing`) and the Ames housing\n",
      "    dataset. You can load the datasets as follows::\n",
      "\n",
      "        from sklearn.datasets import fetch_california_housing\n",
      "        housing = fetch_california_housing()\n",
      "\n",
      "    for the California housing dataset and::\n",
      "\n",
      "        from sklearn.datasets import fetch_openml\n",
      "        housing = fetch_openml(name=\"house_prices\", as_frame=True)\n",
      "\n",
      "    for the Ames housing dataset.\n",
      "  warnings.warn(msg, category=FutureWarning)\n"
     ]
    }
   ],
   "source": [
    "# coding:utf-8\n",
    "import numpy as np\n",
    "from sklearn import datasets\n",
    "from sklearn.linear_model import LinearRegression\n",
    "\n",
    "boston = datasets.load_boston()\n",
    "X = boston.data\n",
    "y = boston.target\n",
    "X = X[y < 50.0]\n",
    "y = y[y < 50.0]\n",
    "lin_reg = LinearRegression()\n",
    "lin_reg.fit(X, y)   # 不需要预测，所以对整个数据集进行 fit\n",
    "print('The intercept is:\\n', lin_reg.intercept_)\n",
    "print('The coefficients are:\\n', lin_reg.coef_)\n",
    "# 系数为负数表示数值越大房价越低，排序靠前；系数为正数表示数值越大房价越低，排序靠后\n",
    "print('The relevancy of coefficients are:\\n', np.sort(lin_reg.coef_))    # 无法简单实现倒序\n",
    "print('The names of least relevant coefficients are:\\n', boston.feature_names[np.argsort(lin_reg.coef_)])\n"
   ]
  }
 ],
 "metadata": {
  "kernelspec": {
   "display_name": "Python 3.9.12 ('base')",
   "language": "python",
   "name": "python3"
  },
  "language_info": {
   "codemirror_mode": {
    "name": "ipython",
    "version": 3
   },
   "file_extension": ".py",
   "mimetype": "text/x-python",
   "name": "python",
   "nbconvert_exporter": "python",
   "pygments_lexer": "ipython3",
   "version": "3.9.12"
  },
  "orig_nbformat": 4,
  "vscode": {
   "interpreter": {
    "hash": "3d597f4c481aa0f25dceb95d2a0067e73c0966dcbd003d741d821a7208527ecf"
   }
  }
 },
 "nbformat": 4,
 "nbformat_minor": 2
}
