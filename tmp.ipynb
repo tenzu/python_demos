{
 "cells": [
  {
   "cell_type": "code",
   "execution_count": 1,
   "metadata": {},
   "outputs": [],
   "source": [
    "from sklearn import datasets\n",
    "from sklearn.model_selection import train_test_split\n",
    "\n",
    "iris = datasets.load_iris()\n",
    "X = iris.data\n",
    "y = iris.target\n",
    "X_train, X_test, y_train, y_test = train_test_split(\n",
    "    X, y, test_size=0.93,\n",
    "    random_state=666)  #默认 test_size 为0.2，表示取20%的数据作为验证数据集。random_state 表示随机种子\n"
   ]
  },
  {
   "cell_type": "code",
   "execution_count": 8,
   "metadata": {},
   "outputs": [
    {
     "name": "stdout",
     "output_type": "stream",
     "text": [
      "kNN 算法准确度:\n",
      " 0.9916666666666667\n"
     ]
    }
   ],
   "source": [
    "from sklearn import datasets\n",
    "from sklearn.model_selection import train_test_split\n",
    "from sklearn.neighbors import KNeighborsClassifier\n",
    "digits = datasets.load_digits()\n",
    "X = digits.data\n",
    "y = digits.target\n",
    "X_train, X_test, y_train, y_test = train_test_split(X, y, test_size=0.2, random_state=666)    # 分割数据集\n",
    "kNN_classifier = KNeighborsClassifier(n_neighbors=3, n_jobs=-1)     # n_neighbors表示判断最近“距离”用到的数据点，n_jobs表示使用的本机cpu核数\n",
    "kNN_classifier.fit(X_train, y_train)    # 拟合\n",
    "print('kNN 算法准确度:\\n', kNN_classifier.score(X_test, y_test))   # 显示分类准确度"
   ]
  },
  {
   "cell_type": "code",
   "execution_count": 9,
   "metadata": {},
   "outputs": [
    {
     "name": "stdout",
     "output_type": "stream",
     "text": [
      "For method = distance:\n",
      "The best k is:\n",
      " 3\n",
      "The best p is:\n",
      " 2\n",
      "The best score is:\n",
      " 0.9916666666666667\n",
      "For method = uniform:\n",
      "The best k is:\n",
      " 3\n",
      "The best score is:\n",
      " 0.9916666666666667\n"
     ]
    }
   ],
   "source": [
    "# coding:utf-8\n",
    "from sklearn import datasets\n",
    "from sklearn.model_selection import train_test_split\n",
    "from sklearn.neighbors import KNeighborsClassifier\n",
    "# 采用网格方法搜索最优参数，更简单的方法见下一节\n",
    "digits = datasets.load_digits()\n",
    "X = digits.data\n",
    "y = digits.target\n",
    "X_train, X_test, y_train, y_test = train_test_split(X, y, test_size=0.2, random_state=666)\n",
    "\n",
    "bestK1 = -1\n",
    "bestP1 = -1\n",
    "bestScore1 = 0.0\n",
    "for k in range(1, 11):\n",
    "# method = uniform 时不涉及 p 值选取\n",
    "    for p in range(1, 6):\n",
    "        kNN_classifier = KNeighborsClassifier(n_neighbors=k, weights=\"distance\", p=p, n_jobs=-1)    # weights表示距离权重种类，p 表示明可夫斯基距离参数\n",
    "        kNN_classifier.fit(X_train, y_train)\n",
    "        score = kNN_classifier.score(X_test, y_test)\n",
    "        if score > bestScore1:\n",
    "            bestK1 = k\n",
    "            bestP1 = p\n",
    "            bestScore1 = score\n",
    "\n",
    "bestK2 = -1\n",
    "bestScore2 = 0.0\n",
    "for k in range(1,11):\n",
    "    kNN_classifier = KNeighborsClassifier(n_neighbors=k, weights=\"uniform\", n_jobs=-1)\n",
    "    kNN_classifier.fit(X_train, y_train)\n",
    "    score = kNN_classifier.score(X_test, y_test)\n",
    "    if score > bestScore2:\n",
    "        bestK2 = k\n",
    "        bestScore2 = score\n",
    "print(\"For method = distance:\")\n",
    "print(\"The best k is:\\n\", bestK1)\n",
    "print(\"The best p is:\\n\", bestP1)\n",
    "print(\"The best score is:\\n\", bestScore1)\n",
    "print(\"For method = uniform:\")\n",
    "print(\"The best k is:\\n\", bestK2)\n",
    "print(\"The best score is:\\n\", bestScore2)\n"
   ]
  },
  {
   "cell_type": "code",
   "execution_count": null,
   "metadata": {},
   "outputs": [],
   "source": [
    "# coding:utf-8\n",
    "from sklearn import datasets\n",
    "from sklearn.model_selection import train_test_split\n",
    "from sklearn.neighbors import KNeighborsClassifier\n",
    "from sklearn.model_selection import GridSearchCV    # CV 表示 cross validation，交叉验证\n",
    "param_grid = [\n",
    "    {\n",
    "        'weights': ['uniform'], \n",
    "        'n_neighbors': [k for k in range(1, 11)]\n",
    "    },\n",
    "    {\n",
    "        'weights': ['distance'],\n",
    "        'n_neighbors': [k for k in range(1, 11)], \n",
    "        'p': [p for p in range(1, 6)]\n",
    "    }\n",
    "]\n",
    "digits = datasets.load_digits()\n",
    "X = digits.data\n",
    "y = digits.target\n",
    "X_train, X_test, y_train, y_test = train_test_split(X, y, test_size=0.25, random_state=666)\n",
    "kNN_classifier = KNeighborsClassifier()\n",
    "grid_search = GridSearchCV(kNN_classifier, param_grid, n_jobs=-1, verbose=2)\n",
    "grid_search.fit(X_train, y_train)\n",
    "print(grid_search.best_score_)\n",
    "print(grid_search.best_params_)\n",
    "\n",
    "kNN_classifier = grid_search.best_estimator_\n",
    "print(kNN_classifier.score(X_test, y_test))\n"
   ]
  }
 ],
 "metadata": {
  "kernelspec": {
   "display_name": "Python 3.9.12 ('base')",
   "language": "python",
   "name": "python3"
  },
  "language_info": {
   "codemirror_mode": {
    "name": "ipython",
    "version": 3
   },
   "file_extension": ".py",
   "mimetype": "text/x-python",
   "name": "python",
   "nbconvert_exporter": "python",
   "pygments_lexer": "ipython3",
   "version": "3.9.12"
  },
  "orig_nbformat": 4,
  "vscode": {
   "interpreter": {
    "hash": "3d597f4c481aa0f25dceb95d2a0067e73c0966dcbd003d741d821a7208527ecf"
   }
  }
 },
 "nbformat": 4,
 "nbformat_minor": 2
}
