{
 "cells": [
  {
   "cell_type": "code",
   "execution_count": 2,
   "metadata": {},
   "outputs": [
    {
     "name": "stdout",
     "output_type": "stream",
     "text": [
      "The final theta is:\n",
      " 2.5001306684288975\n",
      "The final lost function is:\n",
      " -0.9999999829257616\n",
      "After 45 step(s), we get the min value of lost function.\n"
     ]
    },
    {
     "data": {
      "image/png": "[encoded data removed]",
      "text/plain": [
       "<Figure size 432x288 with 1 Axes>"
      ]
     },
     "metadata": {
      "needs_background": "light"
     },
     "output_type": "display_data"
    }
   ],
   "source": [
    "# 梯度下降法二维模拟\n",
    "# coding:utf-8\n",
    "import numpy as np\n",
    "import matplotlib.pyplot as plt\n",
    "\n",
    "plot_x = np.linspace(-1, 6, 141)\n",
    "plot_y = (plot_x - 2.5)**2 - 1  # 损失函数值，绘图用\n",
    "# 损失函数\n",
    "def J(theta):\n",
    "    try:\n",
    "        return (theta - 2.5)**2 - 1\n",
    "    except:\n",
    "        return float('inf')\n",
    "# 梯度函数\n",
    "def dJ(theta):\n",
    "    return 2 * (theta - 2.5)\n",
    "# 梯度下降算法\n",
    "# epsilon = 1e-8  #判断 theta 是否为零的误差区间\n",
    "def gradient_decent(initial_theta, eta, epsilon=1e-8, n_iters=1e4):\n",
    "    theta = initial_theta\n",
    "    theta_history.append(theta)\n",
    "    i_iter = 0\n",
    "    while i_iter < n_iters:\n",
    "        gradiant = dJ(theta)\n",
    "        last_theta = theta\n",
    "        theta -= eta * gradiant\n",
    "        theta_history.append(theta)\n",
    "        if abs(J(theta) - J(last_theta)) < epsilon:\n",
    "            break\n",
    "        i_iter += 1\n",
    "    return\n",
    "# 绘制梯度下降过程\n",
    "def plot_theta_history():\n",
    "    plt.plot(plot_x, J(plot_x), c='b')\n",
    "    theta_x = np.array(theta_history)\n",
    "    plt.plot(theta_x, J(theta_x), c='r', marker='+')\n",
    "    plt.show()\n",
    "\n",
    "initial_theta = 5.5  # theta 初始点\n",
    "theta_history = []  # 记录 theta 的变化\n",
    "eta = 0.1  # 学习率，取 1.1 时将 n_iters 改为 10 看结果\n",
    "\n",
    "# 可改变 initial_theta 和 eta 的值观察结果\n",
    "gradient_decent(initial_theta, eta)\n",
    "print(\"The final theta is:\\n\", theta_history[-1])\n",
    "print(\"The final lost function is:\\n\", J(theta_history[-1]))\n",
    "print(\"After\",\n",
    "      len(theta_history) - 1,\n",
    "      \"step(s), we get the min value of lost function.\")\n",
    "plot_theta_history()\n"
   ]
  }
 ],
 "metadata": {
  "kernelspec": {
   "display_name": "Python 3.9.12 ('base')",
   "language": "python",
   "name": "python3"
  },
  "language_info": {
   "codemirror_mode": {
    "name": "ipython",
    "version": 3
   },
   "file_extension": ".py",
   "mimetype": "text/x-python",
   "name": "python",
   "nbconvert_exporter": "python",
   "pygments_lexer": "ipython3",
   "version": "3.9.12"
  },
  "orig_nbformat": 4,
  "vscode": {
   "interpreter": {
    "hash": "3d597f4c481aa0f25dceb95d2a0067e73c0966dcbd003d741d821a7208527ecf"
   }
  }
 },
 "nbformat": 4,
 "nbformat_minor": 2
}
