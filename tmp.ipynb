{
 "cells": [
  {
   "cell_type": "code",
   "execution_count": 2,
   "metadata": {},
   "outputs": [
    {
     "name": "stderr",
     "output_type": "stream",
     "text": [
      "/opt/miniconda3/lib/python3.9/site-packages/sklearn/utils/deprecation.py:87: FutureWarning: Function load_boston is deprecated; `load_boston` is deprecated in 1.0 and will be removed in 1.2.\n",
      "\n",
      "    The Boston housing prices dataset has an ethical problem. You can refer to\n",
      "    the documentation of this function for further details.\n",
      "\n",
      "    The scikit-learn maintainers therefore strongly discourage the use of this\n",
      "    dataset unless the purpose of the code is to study and educate about\n",
      "    ethical issues in data science and machine learning.\n",
      "\n",
      "    In this special case, you can fetch the dataset from the original\n",
      "    source::\n",
      "\n",
      "        import pandas as pd\n",
      "        import numpy as np\n",
      "\n",
      "        data_url = \"http://lib.stat.cmu.edu/datasets/boston\"\n",
      "        raw_df = pd.read_csv(data_url, sep=\"\\s+\", skiprows=22, header=None)\n",
      "        data = np.hstack([raw_df.values[::2, :], raw_df.values[1::2, :2]])\n",
      "        target = raw_df.values[1::2, 2]\n",
      "\n",
      "    Alternative datasets include the California housing dataset (i.e.\n",
      "    :func:`~sklearn.datasets.fetch_california_housing`) and the Ames housing\n",
      "    dataset. You can load the datasets as follows::\n",
      "\n",
      "        from sklearn.datasets import fetch_california_housing\n",
      "        housing = fetch_california_housing()\n",
      "\n",
      "    for the California housing dataset and::\n",
      "\n",
      "        from sklearn.datasets import fetch_openml\n",
      "        housing = fetch_openml(name=\"house_prices\", as_frame=True)\n",
      "\n",
      "    for the Ames housing dataset.\n",
      "  warnings.warn(msg, category=FutureWarning)\n"
     ]
    },
    {
     "name": "stdout",
     "output_type": "stream",
     "text": [
      "The score (R^2) is:\n",
      " 0.5865412198300899\n",
      "The prediction of X_test[1] is:\n",
      " [31.62]\n",
      "The true value of y_test[1] is:\n",
      " 24.8\n",
      "Fitting 5 folds for each of 60 candidates, totalling 300 fits\n",
      "The best parameters are:\n",
      " {'n_neighbors': 7, 'p': 1, 'weights': 'distance'}\n",
      "The best score is:\n",
      " 0.652216494152461\n",
      "The score of test is:\n",
      " 0.7160666820548707\n"
     ]
    }
   ],
   "source": [
    "# coding:utf-8\n",
    "from sklearn import datasets\n",
    "from sklearn.model_selection import train_test_split\n",
    "from sklearn.neighbors import KNeighborsRegressor\n",
    "from sklearn.model_selection import GridSearchCV\n",
    "\n",
    "boston = datasets.load_boston()\n",
    "X = boston.data\n",
    "y = boston.target\n",
    "X = X[y < 50.0]\n",
    "y = y[y < 50.0]\n",
    "X_train, X_test, y_train, y_test = train_test_split(X, y, test_size=0.2, random_state=666)\n",
    "kNN_reg = KNeighborsRegressor() # 默认 k = 5\n",
    "kNN_reg.fit(X_train, y_train)\n",
    "print('The score (R^2) is:\\n', kNN_reg.score(X_test, y_test))\n",
    "print('The prediction of X_test[1] is:\\n', kNN_reg.predict(X_test[1].reshape(1, -1)))\n",
    "print('The true value of y_test[1] is:\\n', y_test[1])\n",
    "# 超参数优化\n",
    "param_grid = [{\n",
    "     'weights': ['uniform'],\n",
    "    'n_neighbors': [i for i in range(1, 11)]\n",
    "}, {\n",
    "    'weights': ['distance'],\n",
    "    'n_neighbors': [i for i in range(1, 11)],\n",
    "    'p': [i for i in range(1, 6)]\n",
    "}]\n",
    "kNN_reg2 = KNeighborsRegressor()\n",
    "grid_search = GridSearchCV(kNN_reg2, param_grid, n_jobs=-1, verbose=1)\n",
    "grid_search.fit(X_train, y_train)\n",
    "print('The best parameters are:\\n', grid_search.best_params_)\n",
    "# GridSearchCV 得到的 score，与之前的 score 评判标准不同\n",
    "print('The best score is:\\n', grid_search.best_score_)\n",
    "# 真正的 score，与之前的 score 评判标准相同\n",
    "print('The score of test is:\\n', grid_search.best_estimator_.score(X_test, y_test))"
   ]
  }
 ],
 "metadata": {
  "kernelspec": {
   "display_name": "Python 3.9.12 ('base')",
   "language": "python",
   "name": "python3"
  },
  "language_info": {
   "codemirror_mode": {
    "name": "ipython",
    "version": 3
   },
   "file_extension": ".py",
   "mimetype": "text/x-python",
   "name": "python",
   "nbconvert_exporter": "python",
   "pygments_lexer": "ipython3",
   "version": "3.9.12"
  },
  "orig_nbformat": 4,
  "vscode": {
   "interpreter": {
    "hash": "3d597f4c481aa0f25dceb95d2a0067e73c0966dcbd003d741d821a7208527ecf"
   }
  }
 },
 "nbformat": 4,
 "nbformat_minor": 2
}
